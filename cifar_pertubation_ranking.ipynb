{
 "cells": [
  {
   "cell_type": "code",
   "execution_count": 1,
   "id": "77c11028-5110-4a8f-ba9b-3af4a9576c99",
   "metadata": {
    "tags": []
   },
   "outputs": [],
   "source": [
    "import os\n",
    "import numpy as np\n",
    "import pandas as pd\n",
    "\n",
    "import matplotlib.pyplot as plt\n",
    "%matplotlib inline  \n",
    "\n",
    "import warnings\n",
    "warnings.filterwarnings(\"ignore\")"
   ]
  },
  {
   "cell_type": "code",
   "execution_count": 2,
   "id": "73fac8e1-204e-4753-8f14-28324fc3c940",
   "metadata": {
    "tags": []
   },
   "outputs": [],
   "source": [
    "import torch\n",
    "torch.manual_seed(0)\n",
    "\n",
    "import torchvision\n",
    "import torch.nn as nn\n",
    "import torch.nn.functional as F\n",
    "from torch import optim\n",
    "import torchvision.transforms as transforms\n",
    "import torchvision.datasets as datasets\n",
    "from torch.utils.data.dataset import Dataset\n",
    "from torch.utils.data import random_split\n",
    "\n",
    "\n",
    "import torchattacks"
   ]
  },
  {
   "cell_type": "code",
   "execution_count": 3,
   "id": "0d975b05-28db-4409-ae61-d5e953aabae4",
   "metadata": {
    "tags": []
   },
   "outputs": [],
   "source": [
    "from cifar_model_arch.densenet import DenseNet121\n",
    "from cifar_model_arch.efficientnet import EfficientNetB0\n",
    "from cifar_model_arch.resnet import ResNet18\n",
    "from cifar_model_arch.swin import swin_s\n",
    "from cifar_model_arch.vit import ViT"
   ]
  },
  {
   "cell_type": "code",
   "execution_count": 4,
   "id": "9abc015f-dab1-4964-b228-c00a2f12a587",
   "metadata": {
    "tags": []
   },
   "outputs": [
    {
     "name": "stdout",
     "output_type": "stream",
     "text": [
      "Files already downloaded and verified\n"
     ]
    }
   ],
   "source": [
    "device = torch.device(\"cuda:0\" if torch.cuda.is_available() else \"cpu\")\n",
    "\n",
    "test_transform = transforms.Compose([\n",
    "    transforms.ToTensor(),\n",
    "])\n",
    "\n",
    "test_dataset = torchvision.datasets.CIFAR10(root='./data', train=False,\n",
    "                                            download=True, transform=test_transform)\n",
    "test_loader = torch.utils.data.DataLoader(test_dataset, batch_size=100,\n",
    "                                          shuffle=True, num_workers=8)"
   ]
  },
  {
   "cell_type": "code",
   "execution_count": 5,
   "id": "5f01d491-940d-498b-afdd-d7cbb26adf62",
   "metadata": {},
   "outputs": [],
   "source": [
    "save_path = 'save_path_with_a_lot_of_memory'"
   ]
  },
  {
   "cell_type": "code",
   "execution_count": 6,
   "id": "7de2025f-bdbd-47ab-afc2-e6900954b546",
   "metadata": {
    "tags": []
   },
   "outputs": [],
   "source": [
    "vit_params = {\n",
    "    'image_size' : 32,\n",
    "    'patch_size' : 4,\n",
    "    'num_classes' : 10,\n",
    "    'dim' : 384,\n",
    "    'depth' : 7,\n",
    "    'heads' : 12,\n",
    "    'mlp_dim' : 384*3,\n",
    "    'dropout' : 0.1,\n",
    "    'emb_dropout' : 0\n",
    "}\n",
    "\n",
    "EfficientNetB0_params = {}\n",
    "DenseNet121_params = {}\n",
    "Resnet18_params = {}\n",
    "Swin_params = {'num_classes':10}\n",
    "\n",
    "params = {'ViT': vit_params, 'ViT_copy': vit_params,\n",
    "          'DenseNet121': DenseNet121_params, 'DenseNet121_copy': DenseNet121_params,\n",
    "          'EfficientNetB0': EfficientNetB0_params, 'EfficientNetB0_copy': EfficientNetB0_params,\n",
    "          'ResNet18': Resnet18_params, 'ResNet18_copy': Resnet18_params,\n",
    "          'swin_s': Swin_params, 'swin_s_copy': Swin_params}\n",
    "\n",
    "\n",
    "\n",
    "model_paths = { 'ViT': './models/cifar10/ViT_0.ckpt',\n",
    "               'ViT_copy': './models/cifar10/ViT_1.ckpt',\n",
    "                'DenseNet121':'./models/cifar10/DenseNet121_0.ckpt',\n",
    "                'DenseNet121_copy':'./models/cifar10/DenseNet121_1.ckpt',\n",
    "                'EfficientNetB0': './models/cifar10/EfficientNetB0_0.ckpt',\n",
    "                'EfficientNetB0_copy': './models/cifar10/EfficientNetB0_1.ckpt',\n",
    "                'ResNet18': './models/cifar10/resnet18_0.ckpt',\n",
    "                'ResNet18_copy': './models/cifar10/resnet18_1.ckpt',\n",
    "                'swin_s': './models/cifar10/Swin_0.ckpt',\n",
    "                'swin_s_copy': './models/cifar10/Swin_1.ckpt'}\n",
    "                    \n",
    "\n",
    "models = {'ViT': ViT, 'ViT_copy': ViT, 'DenseNet121': DenseNet121, 'DenseNet121_copy': DenseNet121,\n",
    "          'EfficientNetB0':EfficientNetB0, 'EfficientNetB0_copy':EfficientNetB0,\n",
    "          'ResNet18': ResNet18, 'ResNet18_copy': ResNet18,\n",
    "          'swin_s': swin_s, 'swin_s_copy': swin_s}\n",
    "\n",
    "model_names = ['ViT', 'DenseNet121', 'EfficientNetB0', 'ResNet18', 'swin_s', \n",
    "              'ViT_copy', 'DenseNet121_copy', 'EfficientNetB0_copy', 'ResNet18_copy', 'swin_s_copy']\n",
    "\n",
    "\n",
    "eps = 4/255\n",
    "alpha = 1/255\n",
    "iters = 40\n",
    "attack = 'PGD'"
   ]
  },
  {
   "cell_type": "code",
   "execution_count": 7,
   "id": "f109c23b-bfb6-4ca9-bb4a-a18064c205ad",
   "metadata": {
    "tags": []
   },
   "outputs": [
    {
     "ename": "FileExistsError",
     "evalue": "[Errno 17] File exists: '/dt/yisroel/Chaimeleon/Transferability/adv_samples/PGD/cifar/pertubation_ranking'",
     "output_type": "error",
     "traceback": [
      "\u001b[0;31m---------------------------------------------------------------------------\u001b[0m",
      "\u001b[0;31mFileExistsError\u001b[0m                           Traceback (most recent call last)",
      "Cell \u001b[0;32mIn[7], line 2\u001b[0m\n\u001b[1;32m      1\u001b[0m \u001b[38;5;28;01mimport\u001b[39;00m \u001b[38;5;21;01mos\u001b[39;00m\n\u001b[0;32m----> 2\u001b[0m os\u001b[38;5;241m.\u001b[39mmkdir(os\u001b[38;5;241m.\u001b[39mpath\u001b[38;5;241m.\u001b[39mjoin(save_path,\n\u001b[1;32m      3\u001b[0m                       \u001b[38;5;124mf\u001b[39m\u001b[38;5;124m'\u001b[39m\u001b[38;5;124madv_samples/PGD/cifar/pertubation_ranking\u001b[39m\u001b[38;5;124m'\u001b[39m))\n",
      "\u001b[0;31mFileExistsError\u001b[0m: [Errno 17] File exists: '/dt/yisroel/Chaimeleon/Transferability/adv_samples/PGD/cifar/pertubation_ranking'"
     ]
    }
   ],
   "source": [
    "import os\n",
    "os.mkdir(os.path.join(save_path,\n",
    "                      f'adv_samples/PGD/cifar/pertubation_ranking'))"
   ]
  },
  {
   "cell_type": "code",
   "execution_count": 19,
   "id": "92801cc3-449f-4da9-86ae-db6f30aa1a5d",
   "metadata": {
    "tags": []
   },
   "outputs": [
    {
     "name": "stdout",
     "output_type": "stream",
     "text": [
      "loaded ./models/cifar10/ViT_0.ckpt\n",
      "loaded ./models/cifar10/DenseNet121_0.ckpt\n",
      "loaded ./models/cifar10/EfficientNetB0_0.ckpt\n",
      "loaded ./models/cifar10/resnet18_0.ckpt\n",
      "loaded ./models/cifar10/Swin_0.ckpt\n",
      "loaded ./models/cifar10/ViT_1.ckpt\n",
      "loaded ./models/cifar10/DenseNet121_1.ckpt\n",
      "loaded ./models/cifar10/EfficientNetB0_1.ckpt\n",
      "loaded ./models/cifar10/resnet18_1.ckpt\n",
      "loaded ./models/cifar10/Swin_1.ckpt\n"
     ]
    }
   ],
   "source": [
    "# for model_name in model_names:\n",
    "#     if '_copy'  in model_name:\n",
    "#         continue\n",
    "#     m = models[model_name](**params[model_name]).to(device)\n",
    "#     m.load_state_dict(torch.load(model_paths[model_name])['net'])\n",
    "#     print(f'loaded {model_paths[model_name]}')\n",
    "#     atk = torchattacks.PGD(m,random_start=False, eps=eps,alpha=alpha,steps=iters)\n",
    "#     # atk = torchattacks.MIFGSM(m, eps=eps, steps=iters, decay=0.9)\n",
    "#     atk = torchattacks.FGSM(m, eps=eps)\n",
    "    \n",
    "#     true_labels = []\n",
    "#     adv_inputs = []\n",
    "#     sample_indexes = []\n",
    "#     sample_num = 0\n",
    "\n",
    "#     for batch, labels in test_loader:\n",
    "#         batch, labels = batch.to(device), labels.to(device)\n",
    "#         sample_index = torch.arange(sample_num, sample_num+labels.size(0))\n",
    "#         adv_samples = atk(batch, labels)\n",
    "#         pred_labels = m(adv_samples).argmax(dim=1)\n",
    "#         mask = pred_labels.eq(labels)\n",
    "#         if mask.all():\n",
    "#             continue\n",
    "#         else:\n",
    "#             adv_samples = adv_samples[~mask]\n",
    "#             labels = labels[~mask]\n",
    "#             sample_index = sample_index[~mask.cpu()]\n",
    "#             true_labels.append(labels.to('cpu'))\n",
    "#             adv_inputs.append(adv_samples.to('cpu'))\n",
    "#             sample_indexes.append(sample_index)\n",
    "#         sample_num += labels.size(0)\n",
    "\n",
    "        \n",
    "#     true_labels = torch.cat(true_labels)\n",
    "#     adv_inputs = torch.cat(adv_inputs, dim=0)\n",
    "#     sample_indexes = torch.cat(sample_indexes)\n",
    "\n",
    "#     torch.save(true_labels, f'./adv_samples/{attack}/cifar10/{model_name}_labels.ckpt')\n",
    "#     torch.save(adv_inputs, f'./adv_samples/{attack}/cifar10/{model_name}_samples.ckpt')\n",
    "#     torch.save(sample_indexes, f'./adv_samples/{attack}/cifar10/{model_name}_index.ckpt')\n",
    "\n",
    "#     del m\n",
    "#     del atk\n",
    "    \n",
    "batch, labels = next(iter(test_loader))\n",
    "batch, labels = batch.to(device), labels.to(device)\n",
    "\n",
    "for model_name in model_names:\n",
    "    m = models[model_name](**params[model_name]).to(device)\n",
    "    m.load_state_dict(torch.load(model_paths[model_name])['net'])\n",
    "    print(f'loaded {model_paths[model_name]}')\n",
    "    \n",
    "    m.eval()\n",
    "    atk = torchattacks.PGD(m, random_start=True, \n",
    "                           eps=eps,alpha=alpha,steps=iters)\n",
    "\n",
    "    for run in range(0, 100):\n",
    "        true_labels = labels.to('cpu')\n",
    "        adv_samples = atk(batch, labels).to('cpu')\n",
    "    \n",
    "        torch.save(true_labels, os.path.join(save_path,\n",
    "                                             f'adv_samples/PGD/cifar/pertubation_ranking/{model_name}_labels_run_{run}.ckpt'))\n",
    "        torch.save(adv_samples,  os.path.join(save_path,\n",
    "                                             f'adv_samples/PGD/cifar/pertubation_ranking/{model_name}_samples_run_{run}.ckpt'))\n",
    "    del atk, m\n",
    "      \n",
    "        \n",
    "    "
   ]
  },
  {
   "cell_type": "code",
   "execution_count": 8,
   "id": "7661631c-cf4f-412c-94e3-6079644c78a8",
   "metadata": {
    "tags": []
   },
   "outputs": [],
   "source": [
    "other_list = {'ResNet18': ['ViT', 'ResNet18_copy', 'DenseNet121', 'EfficientNetB0', 'swin_s'],\n",
    "              'swin_s': ['ViT', 'swin_s_copy', 'DenseNet121', 'EfficientNetB0', 'ResNet18'],\n",
    "              'ViT': ['DenseNet121', 'ViT_copy', 'EfficientNetB0', 'ResNet18', 'swin_s'],\n",
    "              'DenseNet121': ['ViT','DenseNet121_copy', 'EfficientNetB0', 'ResNet18', 'swin_s'],\n",
    "              'EfficientNetB0': ['ViT', 'EfficientNetB0_copy', 'DenseNet121', 'ResNet18', 'swin_s'],            \n",
    "\n",
    "             }"
   ]
  },
  {
   "cell_type": "code",
   "execution_count": 12,
   "id": "586f6ff2-9c59-41d5-b0f8-5220127640b8",
   "metadata": {
    "tags": []
   },
   "outputs": [
    {
     "name": "stdout",
     "output_type": "stream",
     "text": [
      "Testing model ResNet18 | run 0\n",
      "Testing model ResNet18 | run 1\n",
      "Testing model ResNet18 | run 2\n",
      "Testing model ResNet18 | run 3\n",
      "Testing model ResNet18 | run 4\n",
      "Testing model ResNet18 | run 5\n",
      "Testing model ResNet18 | run 6\n",
      "Testing model ResNet18 | run 7\n",
      "Testing model ResNet18 | run 8\n",
      "Testing model ResNet18 | run 9\n",
      "Testing model ResNet18 | run 10\n",
      "Testing model ResNet18 | run 11\n",
      "Testing model ResNet18 | run 12\n",
      "Testing model ResNet18 | run 13\n",
      "Testing model ResNet18 | run 14\n",
      "Testing model ResNet18 | run 15\n",
      "Testing model ResNet18 | run 16\n",
      "Testing model ResNet18 | run 17\n",
      "Testing model ResNet18 | run 18\n",
      "Testing model ResNet18 | run 19\n",
      "Testing model swin_s | run 0\n",
      "Testing model swin_s | run 1\n",
      "Testing model swin_s | run 2\n",
      "Testing model swin_s | run 3\n",
      "Testing model swin_s | run 4\n",
      "Testing model swin_s | run 5\n",
      "Testing model swin_s | run 6\n",
      "Testing model swin_s | run 7\n",
      "Testing model swin_s | run 8\n",
      "Testing model swin_s | run 9\n",
      "Testing model swin_s | run 10\n",
      "Testing model swin_s | run 11\n",
      "Testing model swin_s | run 12\n",
      "Testing model swin_s | run 13\n",
      "Testing model swin_s | run 14\n",
      "Testing model swin_s | run 15\n",
      "Testing model swin_s | run 16\n",
      "Testing model swin_s | run 17\n",
      "Testing model swin_s | run 18\n",
      "Testing model swin_s | run 19\n",
      "Testing model ViT | run 0\n",
      "Testing model ViT | run 1\n",
      "Testing model ViT | run 2\n",
      "Testing model ViT | run 3\n",
      "Testing model ViT | run 4\n",
      "Testing model ViT | run 5\n",
      "Testing model ViT | run 6\n",
      "Testing model ViT | run 7\n",
      "Testing model ViT | run 8\n",
      "Testing model ViT | run 9\n",
      "Testing model ViT | run 10\n",
      "Testing model ViT | run 11\n",
      "Testing model ViT | run 12\n",
      "Testing model ViT | run 13\n",
      "Testing model ViT | run 14\n",
      "Testing model ViT | run 15\n",
      "Testing model ViT | run 16\n",
      "Testing model ViT | run 17\n",
      "Testing model ViT | run 18\n",
      "Testing model ViT | run 19\n",
      "Testing model DenseNet121 | run 0\n",
      "Testing model DenseNet121 | run 1\n",
      "Testing model DenseNet121 | run 2\n",
      "Testing model DenseNet121 | run 3\n",
      "Testing model DenseNet121 | run 4\n",
      "Testing model DenseNet121 | run 5\n",
      "Testing model DenseNet121 | run 6\n",
      "Testing model DenseNet121 | run 7\n",
      "Testing model DenseNet121 | run 8\n",
      "Testing model DenseNet121 | run 9\n",
      "Testing model DenseNet121 | run 10\n",
      "Testing model DenseNet121 | run 11\n",
      "Testing model DenseNet121 | run 12\n",
      "Testing model DenseNet121 | run 13\n",
      "Testing model DenseNet121 | run 14\n",
      "Testing model DenseNet121 | run 15\n",
      "Testing model DenseNet121 | run 16\n",
      "Testing model DenseNet121 | run 17\n",
      "Testing model DenseNet121 | run 18\n",
      "Testing model DenseNet121 | run 19\n",
      "Testing model EfficientNetB0 | run 0\n",
      "Testing model EfficientNetB0 | run 1\n",
      "Testing model EfficientNetB0 | run 2\n",
      "Testing model EfficientNetB0 | run 3\n",
      "Testing model EfficientNetB0 | run 4\n",
      "Testing model EfficientNetB0 | run 5\n",
      "Testing model EfficientNetB0 | run 6\n",
      "Testing model EfficientNetB0 | run 7\n",
      "Testing model EfficientNetB0 | run 8\n",
      "Testing model EfficientNetB0 | run 9\n",
      "Testing model EfficientNetB0 | run 10\n",
      "Testing model EfficientNetB0 | run 11\n",
      "Testing model EfficientNetB0 | run 12\n",
      "Testing model EfficientNetB0 | run 13\n",
      "Testing model EfficientNetB0 | run 14\n",
      "Testing model EfficientNetB0 | run 15\n",
      "Testing model EfficientNetB0 | run 16\n",
      "Testing model EfficientNetB0 | run 17\n",
      "Testing model EfficientNetB0 | run 18\n",
      "Testing model EfficientNetB0 | run 19\n"
     ]
    }
   ],
   "source": [
    "# for surogate, others in other_list.items():\n",
    "    \n",
    "#     true_labels= torch.load(f'./adv_samples/{attack}/cifar10/{surogate}_labels.ckpt')\n",
    "#     adv_inputs = torch.load(f'./adv_samples/{attack}/cifar10/{surogate}_samples.ckpt')\n",
    "#     sample_index = torch.load(f'./adv_samples/{attack}/cifar10/{surogate}_index.ckpt')\n",
    "    \n",
    "#     adv_dataset = torch.utils.data.TensorDataset(adv_inputs, true_labels, sample_index)\n",
    "#     adv_loader = torch.utils.data.DataLoader(adv_dataset, batch_size=64,\n",
    "#                                              shuffle=False, num_workers=4)\n",
    "#     print(f'Testing model {surogate}')\n",
    "#     results_df = {}\n",
    "#     for test_model_name in others:\n",
    "        \n",
    "#         results_df[f'{test_model_name}_pred_label'] = []\n",
    "#         results_df[f'{test_model_name}_pred_conf'] = []\n",
    "#         results_df[f'{test_model_name}_true_conf'] = []\n",
    "#         results_df[f'{test_model_name}_true_label'] = []\n",
    "        \n",
    "#         param = params[test_model_name]\n",
    "#         path = model_paths[test_model_name]\n",
    "#         model = models[test_model_name]\n",
    "        \n",
    "#         m = models[test_model_name](**params[test_model_name]).to(device)\n",
    "#         m.load_state_dict(torch.load(model_paths[test_model_name])['net'])\n",
    "#         print(f'loaded {path}')\n",
    "#         m.eval()\n",
    "\n",
    "#         true_labels = []\n",
    "#         adv_inputs = []\n",
    "#         with torch.no_grad():\n",
    "#             for batch, labels, _ in adv_loader:\n",
    "#                 batch, labels = batch.to(device), labels.to(device)\n",
    "#                 outputs = torch.softmax(m(batch), dim=1)\n",
    "#                 max_return = outputs.max(dim=1)\n",
    "                \n",
    "#                 results_df[f'{test_model_name}_pred_label'].extend(max_return.indices.cpu().numpy().tolist())\n",
    "#                 results_df[f'{test_model_name}_pred_conf'].extend(max_return.values.cpu().numpy().tolist())\n",
    "                \n",
    "#                 true_conf = torch.gather(outputs, dim=1, index=labels.view(-1, 1)).view(-1)\n",
    "#                 results_df[f'{test_model_name}_true_conf'].extend(true_conf.cpu().numpy().tolist())\n",
    "#                 results_df[f'{test_model_name}_true_label'].extend(labels.view(-1).cpu().numpy().tolist())\n",
    "\n",
    "#         del m\n",
    "        \n",
    "#     results_df['sample_index'] = []\n",
    "#     for _, _, index in adv_loader:\n",
    "#         results_df['sample_index'].extend(index.numpy().tolist())\n",
    "        \n",
    "#     results_df = pd.DataFrame(results_df)\n",
    "#     results_df.to_csv(f'./results/{attack}/cifar_surogate_{surogate}.csv', index=False)\n",
    "\n",
    "for surogate, others in other_list.items():        \n",
    "    for run in range(20):\n",
    "        true_labels= torch.load(os.path.join(save_path,\n",
    "                                             f'adv_samples/PGD/cifar/pertubation_ranking/{surogate}_labels_run_{run}.ckpt'))\n",
    "        adv_inputs = torch.load(os.path.join(save_path,\n",
    "                                             f'adv_samples/PGD/cifar/pertubation_ranking/{surogate}_samples_run_{run}.ckpt'))\n",
    "        run_df = {}\n",
    "        print(f'Testing model {surogate} | run {run}')\n",
    "        for test_model_name in others:\n",
    "\n",
    "            m = models[test_model_name](**params[test_model_name]).to(device)\n",
    "            m.load_state_dict(torch.load(model_paths[test_model_name])['net'])\n",
    "            m.eval()\n",
    "\n",
    "            batch = adv_inputs.to(device)\n",
    "            with torch.no_grad():\n",
    "                outputs = torch.softmax(m(batch), dim=1).cpu()\n",
    "            max_return = outputs.max(dim=1)\n",
    "\n",
    "            run_df[f'{test_model_name}_pred_label'] = (max_return.indices.numpy().tolist())\n",
    "            run_df[f'{test_model_name}_pred_conf'] = max_return.values.numpy()\n",
    "\n",
    "            true_conf = torch.gather(outputs, dim=1, index=true_labels.view(-1, 1)).view(-1)\n",
    "            run_df[f'{test_model_name}_true_conf'] = (true_conf.cpu().numpy().tolist())\n",
    "            run_df[f'{test_model_name}_true_label'] = (true_labels.numpy().tolist())\n",
    "\n",
    "            del m\n",
    "        run_df = pd.DataFrame(run_df)\n",
    "        run_df.to_csv(f'./results/pertubation_ranking/cifar/run_{run}_cifar_surogate_{surogate}.csv', index=False)"
   ]
  },
  {
   "cell_type": "code",
   "execution_count": 9,
   "id": "a2e191b9-b134-4b11-9b65-16d40b94725f",
   "metadata": {},
   "outputs": [],
   "source": [
    "# df = pd.read_csv('./results/cifar_surogate_DenseNet121.csv')\n",
    "# other_models = other_list['DenseNet121']"
   ]
  },
  {
   "cell_type": "code",
   "execution_count": 10,
   "id": "74ff3577-f7ae-4de7-9a9e-919cfaf0da2a",
   "metadata": {
    "tags": []
   },
   "outputs": [],
   "source": [
    "# for o_m in other_models:\n",
    "#     df[f'{o_m}_transfer'] = (df[f'{o_m}_pred_label'] != df[f'{o_m}_true_label'])"
   ]
  },
  {
   "cell_type": "code",
   "execution_count": 11,
   "id": "81eee768-987d-4e96-bc12-afdb6ff6d5e3",
   "metadata": {
    "tags": []
   },
   "outputs": [],
   "source": [
    "# for i, row in df.iterrows():\n",
    "#     print(row[['ViT_transfer', 'EfficientNetB0_transfer', 'ResNet18_transfer', 'swin_s_transfer']].mean())"
   ]
  },
  {
   "cell_type": "code",
   "execution_count": 12,
   "id": "b020c4dc-31c2-4b0d-b8cb-7c2af64a3398",
   "metadata": {},
   "outputs": [],
   "source": [
    "# state = torch.load('./models/cifar10/Swin_1.ckpt')"
   ]
  },
  {
   "cell_type": "code",
   "execution_count": 13,
   "id": "1dd1e2cd-3601-4d76-a852-8d6bd66faca5",
   "metadata": {
    "tags": []
   },
   "outputs": [],
   "source": [
    "# m = swin_s()\n",
    "# m.load_state_dict(state['net'])"
   ]
  },
  {
   "cell_type": "code",
   "execution_count": 14,
   "id": "8529995d-99d1-4d29-a790-9f0fe26c000e",
   "metadata": {
    "tags": []
   },
   "outputs": [],
   "source": [
    "# m.mlp_head[1]"
   ]
  },
  {
   "cell_type": "code",
   "execution_count": 15,
   "id": "0af8a3ad-d447-43c3-a794-814d4acd4d54",
   "metadata": {
    "tags": []
   },
   "outputs": [],
   "source": [
    "# weight = m.mlp_head[1].weight[:10, :]\n",
    "# bias = m.mlp_head[1].bias[:10]"
   ]
  },
  {
   "cell_type": "code",
   "execution_count": 16,
   "id": "d059fa5b-4316-4896-b467-9773ee15c093",
   "metadata": {
    "tags": []
   },
   "outputs": [],
   "source": [
    "# m.mlp_head[1] = nn.Linear(768, 10)\n",
    "# m.mlp_head[1].weight.data = weight\n",
    "# m.mlp_head[1].bias.data = bias"
   ]
  },
  {
   "cell_type": "code",
   "execution_count": 17,
   "id": "58cafe04-c8fe-433e-b6bf-f08e8370bb95",
   "metadata": {
    "tags": []
   },
   "outputs": [],
   "source": [
    "# state['net'] = m.state_dict()"
   ]
  },
  {
   "cell_type": "code",
   "execution_count": 18,
   "id": "b64b1c5c-d1cf-4e14-86c2-ed2b8cac6f39",
   "metadata": {
    "tags": []
   },
   "outputs": [],
   "source": [
    "# torch.save(state, './models/cifar10/Swin_1.ckpt')"
   ]
  },
  {
   "cell_type": "code",
   "execution_count": 11,
   "id": "1c92e20e-8db4-44d8-aaff-52fbb9a53692",
   "metadata": {},
   "outputs": [
    {
     "name": "stdout",
     "output_type": "stream",
     "text": [
      "loaded ./models/cifar10/ViT_0.ckpt\n",
      "loaded ./models/cifar10/DenseNet121_0.ckpt\n",
      "loaded ./models/cifar10/EfficientNetB0_0.ckpt\n",
      "loaded ./models/cifar10/resnet18_0.ckpt\n",
      "loaded ./models/cifar10/Swin_0.ckpt\n"
     ]
    }
   ],
   "source": [
    "df = {}\n",
    "\n",
    "batch, labels = next(iter(test_loader))\n",
    "batch, labels = batch.to(device), labels.to(device)\n",
    "\n",
    "for model_name in model_names:\n",
    "    if '_copy'  in model_name:\n",
    "        continue\n",
    "    m = models[model_name](**params[model_name]).to(device)\n",
    "    m.load_state_dict(torch.load(model_paths[model_name])['net'])\n",
    "    print(f'loaded {model_paths[model_name]}')\n",
    "    m.eval()\n",
    "    df[f'{model_name}_probs'] = []\n",
    "    df[f'{model_name}_noise_probs'] = []\n",
    "    with torch.no_grad():\n",
    "        sample_num = 0\n",
    "\n",
    "        probs = torch.softmax(m(batch), dim=1).max(dim=1).values\n",
    "        noise_probs =torch.softmax(m(torch.clamp(batch+(16/255)*torch.randn_like(batch), 0, 1)),\n",
    "                                   dim=1).max(dim=1).values\n",
    "\n",
    "        df[f'{model_name}_probs'] = probs.detach().cpu().numpy().tolist()\n",
    "        df[f'{model_name}_noise_probs'] = noise_probs.detach().cpu().numpy().tolist()\n",
    "\n",
    "df = pd.DataFrame(df)\n",
    "df.to_csv(f'./results/pertubation_ranking/cifar/cifar_all_preds.csv', index=False)\n",
    "    \n",
    "     "
   ]
  },
  {
   "cell_type": "code",
   "execution_count": 20,
   "id": "cd02ad82-d35e-4d1b-a004-7957f2b43340",
   "metadata": {},
   "outputs": [],
   "source": [
    "import torchvision.transforms as transforms\n",
    "import cv2\n",
    "\n",
    "class Resize(object):\n",
    "    def __init__(self, org_size, inter_size):\n",
    "        self.org_size = org_size\n",
    "        self.inter_size = inter_size\n",
    "\n",
    "    def __call__(self, img):\n",
    "        img = transforms.functional.resize(img, self.inter_size)\n",
    "        return transforms.functional.resize(img, self.org_size)\n",
    "    \n",
    "class Compress(object):\n",
    "    def __init__(self,):\n",
    "        self.encode_param =  [int(cv2.IMWRITE_JPEG_QUALITY), 90]\n",
    "\n",
    "    def __call__(self, img):\n",
    "        img = (img.cpu().numpy()*255).astype(np.uint8).transpose([1,2,0])\n",
    "        result, encimg = cv2.imencode('.jpg', img, self.encode_param)\n",
    "        decimg = cv2.imdecode(encimg, 1)\n",
    "        return torch.Tensor(decimg.transpose(2,0,1))/255\n",
    "    \n",
    "class Adv_dataset_with_transforms(Dataset):\n",
    "    def __init__(self, adv_inputs, true_labels, sample_index, transforms):\n",
    "        self.data = adv_inputs\n",
    "        self.target = true_labels\n",
    "        self.sample_index = sample_index\n",
    "        self.transform = transforms\n",
    "        \n",
    "    def __len__(self):\n",
    "        return len(self.data)\n",
    "    \n",
    "    def __getitem__(self, index):\n",
    "        x = self.data[index]\n",
    "        x = self.transform(x)\n",
    "        \n",
    "        y = self.target[index]\n",
    "        sample_index = self.sample_index[index]\n",
    "        return x, y, sample_index"
   ]
  },
  {
   "cell_type": "code",
   "execution_count": 21,
   "id": "7a3625a5-13f9-43a4-a764-eac799fdb89e",
   "metadata": {},
   "outputs": [],
   "source": [
    "transform = 'resize'\n",
    "\n",
    "if transform == 'compression':\n",
    "    trans = Compress()\n",
    "elif transform == 'resize':\n",
    "    trans = Resize(32, 29)\n",
    "elif transform == 'combined':\n",
    "    trans = transforms.Compose([\n",
    "        Compress(),\n",
    "        Resize(32, 29)\n",
    "    ])\n",
    "else:\n",
    "    trans = lambda x: x"
   ]
  },
  {
   "cell_type": "code",
   "execution_count": 22,
   "id": "a8c03b93-ba16-4af4-b7f6-283d12c72b0d",
   "metadata": {},
   "outputs": [
    {
     "name": "stdout",
     "output_type": "stream",
     "text": [
      "Testing model ResNet18\n",
      "loaded ./models/cifar10/ViT_0.ckpt\n",
      "loaded ./models/cifar10/resnet18_1.ckpt\n",
      "loaded ./models/cifar10/DenseNet121_0.ckpt\n",
      "loaded ./models/cifar10/EfficientNetB0_0.ckpt\n",
      "loaded ./models/cifar10/Swin_0.ckpt\n",
      "Testing model swin_s\n",
      "loaded ./models/cifar10/ViT_0.ckpt\n",
      "loaded ./models/cifar10/Swin_1.ckpt\n",
      "loaded ./models/cifar10/DenseNet121_0.ckpt\n",
      "loaded ./models/cifar10/EfficientNetB0_0.ckpt\n",
      "loaded ./models/cifar10/resnet18_0.ckpt\n",
      "Testing model ViT\n",
      "loaded ./models/cifar10/DenseNet121_0.ckpt\n",
      "loaded ./models/cifar10/ViT_1.ckpt\n",
      "loaded ./models/cifar10/EfficientNetB0_0.ckpt\n",
      "loaded ./models/cifar10/resnet18_0.ckpt\n",
      "loaded ./models/cifar10/Swin_0.ckpt\n",
      "Testing model DenseNet121\n",
      "loaded ./models/cifar10/ViT_0.ckpt\n",
      "loaded ./models/cifar10/DenseNet121_1.ckpt\n",
      "loaded ./models/cifar10/EfficientNetB0_0.ckpt\n",
      "loaded ./models/cifar10/resnet18_0.ckpt\n",
      "loaded ./models/cifar10/Swin_0.ckpt\n",
      "Testing model EfficientNetB0\n",
      "loaded ./models/cifar10/ViT_0.ckpt\n",
      "loaded ./models/cifar10/EfficientNetB0_1.ckpt\n",
      "loaded ./models/cifar10/DenseNet121_0.ckpt\n",
      "loaded ./models/cifar10/resnet18_0.ckpt\n",
      "loaded ./models/cifar10/Swin_0.ckpt\n"
     ]
    }
   ],
   "source": [
    "for surogate, others in other_list.items():\n",
    "    \n",
    "    true_labels= torch.load(f'./adv_samples/PGD/cifar10/{surogate}_labels.ckpt')\n",
    "    adv_inputs = torch.load(f'./adv_samples/PGD/cifar10/{surogate}_samples.ckpt')\n",
    "    sample_index = torch.load(f'./adv_samples/PGD/cifar10/{surogate}_index.ckpt')\n",
    "    \n",
    "    adv_dataset = Adv_dataset_with_transforms(adv_inputs, true_labels, sample_index, trans)\n",
    "    adv_loader = torch.utils.data.DataLoader(adv_dataset, batch_size=64,\n",
    "                                             shuffle=False, num_workers=4)\n",
    "    print(f'Testing model {surogate}')\n",
    "    results_df = {}\n",
    "    for test_model_name in others:\n",
    "        \n",
    "        results_df[f'{test_model_name}_pred_label'] = []\n",
    "        results_df[f'{test_model_name}_pred_conf'] = []\n",
    "        results_df[f'{test_model_name}_true_conf'] = []\n",
    "        results_df[f'{test_model_name}_true_label'] = []\n",
    "        \n",
    "        param = params[test_model_name]\n",
    "        path = model_paths[test_model_name]\n",
    "        model = models[test_model_name]\n",
    "        \n",
    "        m = models[test_model_name](**params[test_model_name]).to(device)\n",
    "        m.load_state_dict(torch.load(model_paths[test_model_name])['net'])\n",
    "        print(f'loaded {path}')\n",
    "        m.eval()\n",
    "\n",
    "        true_labels = []\n",
    "        adv_inputs = []\n",
    "        with torch.no_grad():\n",
    "            for batch, labels, _ in adv_loader:\n",
    "                batch, labels = batch.to(device), labels.to(device)\n",
    "                outputs = torch.softmax(m(batch), dim=1)\n",
    "                max_return = outputs.max(dim=1)\n",
    "                \n",
    "                results_df[f'{test_model_name}_pred_label'].extend(max_return.indices.cpu().numpy().tolist())\n",
    "                results_df[f'{test_model_name}_pred_conf'].extend(max_return.values.cpu().numpy().tolist())\n",
    "                \n",
    "                true_conf = torch.gather(outputs, dim=1, index=labels.view(-1, 1)).view(-1)\n",
    "                results_df[f'{test_model_name}_true_conf'].extend(true_conf.cpu().numpy().tolist())\n",
    "                results_df[f'{test_model_name}_true_label'].extend(labels.view(-1).cpu().numpy().tolist())\n",
    "\n",
    "        del m\n",
    "        \n",
    "    results_df['sample_index'] = []\n",
    "    for _, _, index in adv_loader:\n",
    "        results_df['sample_index'].extend(index.numpy().tolist())\n",
    "        \n",
    "    results_df = pd.DataFrame(results_df)\n",
    "    results_df.to_csv(f'./results/transforms/{transform}/cifar_surogate_{surogate}.csv', index=False)"
   ]
  },
  {
   "cell_type": "code",
   "execution_count": null,
   "id": "4d13985b-f4de-4759-8169-6653afc0d759",
   "metadata": {},
   "outputs": [],
   "source": []
  }
 ],
 "metadata": {
  "kernelspec": {
   "display_name": "Python 3 (ipykernel)",
   "language": "python",
   "name": "python3"
  },
  "language_info": {
   "codemirror_mode": {
    "name": "ipython",
    "version": 3
   },
   "file_extension": ".py",
   "mimetype": "text/x-python",
   "name": "python",
   "nbconvert_exporter": "python",
   "pygments_lexer": "ipython3",
   "version": "3.11.4"
  }
 },
 "nbformat": 4,
 "nbformat_minor": 5
}
