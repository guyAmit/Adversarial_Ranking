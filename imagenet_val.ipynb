{
 "cells": [
  {
   "cell_type": "code",
   "execution_count": 1,
   "id": "308ec2ab-6af2-445f-8b16-4e6ccb5647a4",
   "metadata": {
    "tags": []
   },
   "outputs": [],
   "source": [
    "import os\n",
    "import numpy as np\n",
    "\n",
    "import matplotlib.pyplot as plt\n",
    "%matplotlib inline  \n",
    "\n",
    "import warnings\n",
    "warnings.filterwarnings(\"ignore\")"
   ]
  },
  {
   "cell_type": "code",
   "execution_count": 3,
   "id": "7fed77ed-76bf-4bce-be02-916f4baca9fc",
   "metadata": {
    "tags": []
   },
   "outputs": [],
   "source": [
    "import torch\n",
    "import torchvision\n",
    "import torch.nn as nn\n",
    "import torch.nn.functional as F\n",
    "from torch import optim\n",
    "\n",
    "from torchvision.models import resnet50, ResNet50_Weights"
   ]
  },
  {
   "cell_type": "code",
   "execution_count": 7,
   "id": "aca0b919-2a68-49e2-8b6b-5e98d8eabf7c",
   "metadata": {
    "tags": []
   },
   "outputs": [],
   "source": [
    "device = torch.device(\"cuda:0\" if torch.cuda.is_available() else \"cpu\")"
   ]
  },
  {
   "cell_type": "code",
   "execution_count": 10,
   "id": "91b1a9e6-508e-489c-afb1-75353b489c09",
   "metadata": {
    "tags": []
   },
   "outputs": [],
   "source": [
    "def test_classifer_accuracy(net, testloader, device):\n",
    "    net.eval()\n",
    "    test_loss = 0\n",
    "    correct = 0\n",
    "    total = 0\n",
    "    loss_func = nn.CrossEntropyLoss()\n",
    "    with torch.no_grad():\n",
    "        for batch_idx, (inputs, targets) in enumerate(testloader):\n",
    "            targets = targets.to(device)\n",
    "            outputs = net(inputs.to(device))\n",
    "            loss = loss_func(outputs, targets)\n",
    "            test_loss += loss.item()\n",
    "            predicted = outputs.argmax(dim=1)\n",
    "            total += targets.size(0)\n",
    "            correct += predicted.eq(targets).sum().item()\n",
    "    test_acc = correct/total\n",
    "    test_loss = test_loss/(batch_idx+1)\n",
    "    return test_acc, test_loss"
   ]
  },
  {
   "cell_type": "code",
   "execution_count": 9,
   "id": "c1546a12-9521-4086-a303-b33e2ea7e206",
   "metadata": {
    "tags": []
   },
   "outputs": [],
   "source": [
    "weights = ResNet50_Weights.DEFAULT\n",
    "transforms = weights.transforms()\n",
    "model = resnet50(weights=weights).to(device)\n",
    "\n",
    "val_dataset = datasets.ImageFolder(root='./data/Imagenet/val/',\n",
    "                                    transform=transforms)\n",
    "val_loader = torch.utils.data.DataLoader(val_dataset, batch_size=128,\n",
    "                                          shuffle=True, num_workers=8)"
   ]
  },
  {
   "cell_type": "code",
   "execution_count": 11,
   "id": "d467b8a9-c4b7-4537-8ad6-be491b21354d",
   "metadata": {
    "tags": []
   },
   "outputs": [
    {
     "data": {
      "text/plain": [
       "(0.80844, 1.397644891153516)"
      ]
     },
     "execution_count": 11,
     "metadata": {},
     "output_type": "execute_result"
    }
   ],
   "source": [
    "test_classifer_accuracy(model, val_loader, device)"
   ]
  },
  {
   "cell_type": "code",
   "execution_count": null,
   "id": "cd9d8bf5-a51e-48c4-9b7b-5f64ff6a5d01",
   "metadata": {},
   "outputs": [],
   "source": []
  }
 ],
 "metadata": {
  "kernelspec": {
   "display_name": "Python 3 (ipykernel)",
   "language": "python",
   "name": "python3"
  },
  "language_info": {
   "codemirror_mode": {
    "name": "ipython",
    "version": 3
   },
   "file_extension": ".py",
   "mimetype": "text/x-python",
   "name": "python",
   "nbconvert_exporter": "python",
   "pygments_lexer": "ipython3",
   "version": "3.11.4"
  }
 },
 "nbformat": 4,
 "nbformat_minor": 5
}
